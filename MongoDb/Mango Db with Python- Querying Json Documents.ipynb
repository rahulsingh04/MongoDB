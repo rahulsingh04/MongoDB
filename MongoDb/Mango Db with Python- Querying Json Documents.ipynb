{
 "cells": [
  {
   "cell_type": "code",
   "execution_count": 2,
   "id": "2b413bf0",
   "metadata": {},
   "outputs": [],
   "source": [
    "# import pymongo\n",
    "\n",
    "# client=pymongo.MongoClient('mongodb://127.0.0.1:27017/')\n",
    "\n",
    "# mydb=client['Employee']\n",
    "# empinfo=mydb.employeeinformation"
   ]
  },
  {
   "cell_type": "code",
   "execution_count": 5,
   "id": "195176a9",
   "metadata": {},
   "outputs": [],
   "source": [
    "import pymongo\n",
    "client = pymongo.MongoClient(\"mongodb://127.0.0.1:27017/\")\n",
    "mydb = client['classInformation']\n",
    "empinfo = mydb.employeeinformation"
   ]
  },
  {
   "cell_type": "code",
   "execution_count": 6,
   "id": "7f7baaf0",
   "metadata": {},
   "outputs": [],
   "source": [
    "# record={\n",
    "#         'firstname':'Krish',\n",
    "#         'lastname':'Naik',\n",
    "#         'department':'Analytics',\n",
    "#         'qualification':'BE',\n",
    "#         'age':29\n",
    "#         }\n",
    "# empinfo.insert_one(record)"
   ]
  },
  {
   "cell_type": "code",
   "execution_count": 10,
   "id": "732c996c",
   "metadata": {},
   "outputs": [
    {
     "data": {
      "text/plain": [
       "<pymongo.results.InsertOneResult at 0x1c9b1a84500>"
      ]
     },
     "execution_count": 10,
     "metadata": {},
     "output_type": "execute_result"
    }
   ],
   "source": [
    "record = {\n",
    "    'firstname' : \"Krish\",\n",
    "    'lastname'  : \"Naik\" ,\n",
    "    'department':  \"Analytics\",\n",
    "    'qualification': \"computer_science_engineering\",\n",
    "    \"age\"      : 29   ,\n",
    "    \"sex\"       : \"Male\",\n",
    "    \"Professional\": \"youtube_teaching\"\n",
    "    \n",
    "}\n",
    "empinfo.insert_one(record)"
   ]
  },
  {
   "cell_type": "code",
   "execution_count": 11,
   "id": "78aa1f77",
   "metadata": {},
   "outputs": [],
   "source": [
    "# records=[{\n",
    "#         'firstname':'John',\n",
    "#         'lastname':'Doe',\n",
    "#         'department':'Analytics',\n",
    "#         'qualification':'statistics',\n",
    "#         'age':35\n",
    "        \n",
    "#         },\n",
    "#          {\n",
    "#         'firstname':'John ',\n",
    "#         'lastname':'Smith',\n",
    "#         'department':'Analytics',\n",
    "#         'qualification':'masters',\n",
    "#         'age':30\n",
    "        \n",
    "#         },\n",
    "#         {\n",
    "#         'firstname':'Manish',\n",
    "#         'lastname':'Sen',\n",
    "#         'department':'Analytics',\n",
    "#         'qualification':'phd',\n",
    "#         'age':34\n",
    "        \n",
    "#         },\n",
    "#         {\n",
    "#         'firstname':'Ram',\n",
    "#         'lastname':'Singh',\n",
    "#         'department':'Analytics',\n",
    "#         'qualification':'master',\n",
    "#         'age':32\n",
    "        \n",
    "#         }]"
   ]
  },
  {
   "cell_type": "code",
   "execution_count": 22,
   "id": "e45a0ce8",
   "metadata": {},
   "outputs": [],
   "source": [
    "records = [{\n",
    "    'firstname': \"John\" , \n",
    "    'lastname' : \"Doe\" ,\n",
    "    \"department\": \"Analytics\",\n",
    "    \"qualifaction\":\"statistics\",\n",
    "    \"age\"     :  35\n",
    "    \n",
    "} ,\n",
    "{ 'firstname':'John ',\n",
    "         'lastname':'Smith',\n",
    "         'department':'Analytics',\n",
    "         'qualification':'masters',\n",
    "         'age':30\n",
    "        },\n",
    "{\n",
    "     'firstname':'Manish',\n",
    "        'lastname':'Sen',\n",
    "        'department':'Analytics',\n",
    "        'qualification':'phd',\n",
    "        'age':34\n",
    "},\n",
    "{ 'firstname':'Ram',\n",
    "        'lastname':'Singh',\n",
    "        'department':'Analytics',\n",
    "        'qualification':'master',\n",
    "        'age':32\n",
    "}]\n"
   ]
  },
  {
   "cell_type": "code",
   "execution_count": 23,
   "id": "c8a505b5",
   "metadata": {},
   "outputs": [
    {
     "data": {
      "text/plain": [
       "<pymongo.results.InsertManyResult at 0x1c9b1a84700>"
      ]
     },
     "execution_count": 23,
     "metadata": {},
     "output_type": "execute_result"
    }
   ],
   "source": [
    "empinfo.insert_many(records)\n"
   ]
  },
  {
   "cell_type": "code",
   "execution_count": 18,
   "id": "9821e341",
   "metadata": {},
   "outputs": [],
   "source": [
    "# ## Simple way of querying\n",
    "# empinfo.find_one()"
   ]
  },
  {
   "cell_type": "code",
   "execution_count": 15,
   "id": "79931299",
   "metadata": {},
   "outputs": [
    {
     "data": {
      "text/plain": [
       "{'_id': ObjectId('620e6b5606ebac88ec16b98f'),\n",
       " 'firstname': 'Krish',\n",
       " 'lastname': 'Naik',\n",
       " 'department': 'Analytics',\n",
       " 'qualification': 'computer_science_engineering',\n",
       " 'age': 29,\n",
       " 'sex': 'Male',\n",
       " 'Professional': 'youtube_teaching'}"
      ]
     },
     "execution_count": 15,
     "metadata": {},
     "output_type": "execute_result"
    }
   ],
   "source": [
    "empinfo.find_one()"
   ]
  },
  {
   "cell_type": "code",
   "execution_count": 19,
   "id": "844f7d1c",
   "metadata": {},
   "outputs": [],
   "source": [
    "# ## Select * from employeeinformation\n",
    "# for record in empinfo.find({}):\n",
    "#     print(record)"
   ]
  },
  {
   "cell_type": "code",
   "execution_count": 24,
   "id": "c03000be",
   "metadata": {},
   "outputs": [
    {
     "name": "stdout",
     "output_type": "stream",
     "text": [
      "{'_id': ObjectId('620e6b5606ebac88ec16b98f'), 'firstname': 'Krish', 'lastname': 'Naik', 'department': 'Analytics', 'qualification': 'computer_science_engineering', 'age': 29, 'sex': 'Male', 'Professional': 'youtube_teaching'}\n",
      "{'_id': ObjectId('620e6db806ebac88ec16b990'), 'firstname': 'John', 'lastname': 'Doe', 'department': 'Analytics', 'qualifaction': 'statistics', 'age': 35}\n",
      "{'_id': ObjectId('620e6db806ebac88ec16b991'), 'firstname': 'John ', 'lastname': 'Smith', 'department': 'Analytics', 'qualification': 'masters', 'age': 30}\n",
      "{'_id': ObjectId('620e6db806ebac88ec16b992'), 'firstname': 'Manish', 'lastname': 'Sen', 'department': 'Analytics', 'qualification': 'phd', 'age': 34}\n",
      "{'_id': ObjectId('620e6db806ebac88ec16b993'), 'firstname': 'Ram', 'lastname': 'Singh', 'department': 'Analytics', 'qualification': 'master', 'age': 32}\n",
      "{'_id': ObjectId('620e706706ebac88ec16b994'), 'firstname': 'John', 'lastname': 'Doe', 'department': 'Analytics', 'qualifaction': 'statistics', 'age': 35}\n",
      "{'_id': ObjectId('620e706706ebac88ec16b995'), 'firstname': 'John ', 'lastname': 'Smith', 'department': 'Analytics', 'qualification': 'masters', 'age': 30}\n",
      "{'_id': ObjectId('620e706706ebac88ec16b996'), 'firstname': 'Manish', 'lastname': 'Sen', 'department': 'Analytics', 'qualification': 'phd', 'age': 34}\n",
      "{'_id': ObjectId('620e706706ebac88ec16b997'), 'firstname': 'Ram', 'lastname': 'Singh', 'department': 'Analytics', 'qualification': 'master', 'age': 32}\n"
     ]
    }
   ],
   "source": [
    "##select * from employeeinformation\n",
    "for record in empinfo.find():\n",
    "    print(record)"
   ]
  },
  {
   "cell_type": "code",
   "execution_count": 25,
   "id": "d265125a",
   "metadata": {},
   "outputs": [],
   "source": [
    "# ## Query the json documents based on equality conditions\n",
    "# # Select * from employeeinformation where firstname=krish\n",
    "\n",
    "# for record in empinfo.find({'firstname':'Krish'}):\n",
    "#     print(record)"
   ]
  },
  {
   "cell_type": "code",
   "execution_count": 29,
   "id": "1bd890bf",
   "metadata": {},
   "outputs": [
    {
     "name": "stdout",
     "output_type": "stream",
     "text": [
      "{'_id': ObjectId('620e6db806ebac88ec16b993'), 'firstname': 'Ram', 'lastname': 'Singh', 'department': 'Analytics', 'qualification': 'master', 'age': 32}\n",
      "{'_id': ObjectId('620e706706ebac88ec16b997'), 'firstname': 'Ram', 'lastname': 'Singh', 'department': 'Analytics', 'qualification': 'master', 'age': 32}\n"
     ]
    }
   ],
   "source": [
    "#Query the json documents based on equality conditions\n",
    "#Select * from employeeinformation where firstname = krish\n",
    "\n",
    "for record in empinfo.find({'firstname': 'Ram'}):\n",
    "    print(record)"
   ]
  },
  {
   "cell_type": "code",
   "execution_count": null,
   "id": "99306161",
   "metadata": {},
   "outputs": [],
   "source": []
  },
  {
   "cell_type": "code",
   "execution_count": 30,
   "id": "b2a80ed5",
   "metadata": {},
   "outputs": [],
   "source": [
    "# ## Query documents using query operators($in,$lt,$gt)\n",
    "# for record in empinfo.find({'qualification':{'$in':['phd','master']}}):\n",
    "#     print(record)"
   ]
  },
  {
   "cell_type": "code",
   "execution_count": 31,
   "id": "b6d53510",
   "metadata": {},
   "outputs": [
    {
     "name": "stdout",
     "output_type": "stream",
     "text": [
      "{'_id': ObjectId('620e6db806ebac88ec16b992'), 'firstname': 'Manish', 'lastname': 'Sen', 'department': 'Analytics', 'qualification': 'phd', 'age': 34}\n",
      "{'_id': ObjectId('620e6db806ebac88ec16b993'), 'firstname': 'Ram', 'lastname': 'Singh', 'department': 'Analytics', 'qualification': 'master', 'age': 32}\n",
      "{'_id': ObjectId('620e706706ebac88ec16b996'), 'firstname': 'Manish', 'lastname': 'Sen', 'department': 'Analytics', 'qualification': 'phd', 'age': 34}\n",
      "{'_id': ObjectId('620e706706ebac88ec16b997'), 'firstname': 'Ram', 'lastname': 'Singh', 'department': 'Analytics', 'qualification': 'master', 'age': 32}\n"
     ]
    }
   ],
   "source": [
    "##Query documents using query operation($in, $lt, $gt)\n",
    "for record in empinfo.find({'qualification':{'$in':['phd', 'master']}}):\n",
    "    print(record)"
   ]
  },
  {
   "cell_type": "code",
   "execution_count": null,
   "id": "06b666c7",
   "metadata": {},
   "outputs": [],
   "source": []
  },
  {
   "cell_type": "code",
   "execution_count": 32,
   "id": "84974023",
   "metadata": {},
   "outputs": [],
   "source": [
    "# ## And and Query operators\n",
    "# for record in empinfo.find({'qualification':'master','age':{'$lt':35}}):\n",
    "#     print(record)"
   ]
  },
  {
   "cell_type": "code",
   "execution_count": 33,
   "id": "c0bb96f2",
   "metadata": {},
   "outputs": [
    {
     "name": "stdout",
     "output_type": "stream",
     "text": [
      "{'_id': ObjectId('620e706706ebac88ec16b997'), 'firstname': 'Ram', 'lastname': 'Singh', 'department': 'Analytics', 'qualification': 'master', 'age': 32}\n",
      "{'_id': ObjectId('620e706706ebac88ec16b997'), 'firstname': 'Ram', 'lastname': 'Singh', 'department': 'Analytics', 'qualification': 'master', 'age': 32}\n"
     ]
    }
   ],
   "source": [
    "##And query operators\n",
    "\n",
    "for recor in empinfo.find({'qualification': 'master', 'age':{\"$lt\":35}}):\n",
    "    print(record)"
   ]
  },
  {
   "cell_type": "code",
   "execution_count": null,
   "id": "e6ee460b",
   "metadata": {},
   "outputs": [],
   "source": []
  },
  {
   "cell_type": "code",
   "execution_count": 35,
   "id": "808bd4dc",
   "metadata": {},
   "outputs": [],
   "source": [
    "# ## OR operators\n",
    "# for record in empinfo.find({'$or':[{'firstname':'Krish'},{'qualification':'BE'}]}):\n",
    "#     print(record)"
   ]
  },
  {
   "cell_type": "code",
   "execution_count": 36,
   "id": "8f64609e",
   "metadata": {},
   "outputs": [
    {
     "name": "stdout",
     "output_type": "stream",
     "text": [
      "{'_id': ObjectId('620e6b5606ebac88ec16b98f'), 'firstname': 'Krish', 'lastname': 'Naik', 'department': 'Analytics', 'qualification': 'computer_science_engineering', 'age': 29, 'sex': 'Male', 'Professional': 'youtube_teaching'}\n"
     ]
    }
   ],
   "source": [
    "##OR Operators\n",
    "for record in empinfo.find({'$or':[{'firstname': 'Krish'} , {'qualification':\"BE\"}]}):\n",
    "    print(record)"
   ]
  },
  {
   "cell_type": "code",
   "execution_count": null,
   "id": "fc11a213",
   "metadata": {},
   "outputs": [],
   "source": []
  },
  {
   "cell_type": "code",
   "execution_count": 40,
   "id": "fe05c5a7",
   "metadata": {},
   "outputs": [],
   "source": [
    "inventory=mydb.inventory\n"
   ]
  },
  {
   "cell_type": "code",
   "execution_count": 41,
   "id": "7b281e6b",
   "metadata": {},
   "outputs": [],
   "source": [
    "inventory.insert_many( [\n",
    "   { 'item': \"journal\", 'qty': 25, 'size': { 'h': 14, 'w': 21,'uom': \"cm\" }, 'status': \"A\" },\n",
    "   { 'item': \"notebook\", 'qty': 50,'size': { 'h': 8.5, 'w': 11,'uom': \"in\" },'status': \"A\" },\n",
    "   { 'item': \"paper\", 'qty': 100, 'size': { 'h': 8.5, 'w': 11,'uom': \"in\" },'status': \"D\" },\n",
    "   { 'item': \"planner\", 'qty': 75, 'size': { 'h': 22.85,'w': 30,'uom': \"cm\" },'status': \"D\" },\n",
    "   { 'item': \"postcard\", 'qty': 45, 'size': { 'h': 10, 'w': 15.25,'uom': \"cm\" },'status': \"A\" }\n",
    "]);\n",
    "    "
   ]
  },
  {
   "cell_type": "code",
   "execution_count": 42,
   "id": "9aeaf7e3",
   "metadata": {},
   "outputs": [
    {
     "name": "stdout",
     "output_type": "stream",
     "text": [
      "{'_id': ObjectId('620e74d706ebac88ec16b998'), 'item': 'journal', 'qty': 25, 'size': {'h': 14, 'w': 21, 'uom': 'cm'}, 'status': 'A'}\n",
      "{'_id': ObjectId('620e77f906ebac88ec16b99d'), 'item': 'journal', 'qty': 25, 'size': {'h': 14, 'w': 21, 'uom': 'cm'}, 'status': 'A'}\n"
     ]
    }
   ],
   "source": [
    "for records in inventory.find({'size': { 'h': 14, 'w': 21,'uom': \"cm\" }}):\n",
    "    print(records)"
   ]
  },
  {
   "cell_type": "code",
   "execution_count": null,
   "id": "63e9727f",
   "metadata": {},
   "outputs": [],
   "source": []
  }
 ],
 "metadata": {
  "kernelspec": {
   "display_name": "Python 3 (ipykernel)",
   "language": "python",
   "name": "python3"
  },
  "language_info": {
   "codemirror_mode": {
    "name": "ipython",
    "version": 3
   },
   "file_extension": ".py",
   "mimetype": "text/x-python",
   "name": "python",
   "nbconvert_exporter": "python",
   "pygments_lexer": "ipython3",
   "version": "3.9.7"
  }
 },
 "nbformat": 4,
 "nbformat_minor": 5
}
